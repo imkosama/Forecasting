{
 "cells": [
  {
   "cell_type": "markdown",
   "id": "fffc221f",
   "metadata": {},
   "source": [
    "# Forecast the Airlines passanger dataset. Prepare a document for each model explaining\n",
    " * how many dummy variables you have created and RMSE value for each model. Finally which model you will use for Forecasting.\n"
   ]
  },
  {
   "cell_type": "code",
   "execution_count": 1,
   "id": "c0d1a14a",
   "metadata": {},
   "outputs": [],
   "source": [
    "import pandas as pd\n",
    "import numpy as np \n",
    "import seaborn as sns\n",
    "import matplotlib.pyplot as plt\n",
    "import warnings\n",
    "warnings.filterwarnings('ignore')\n"
   ]
  },
  {
   "cell_type": "code",
   "execution_count": 2,
   "id": "afb53bc6",
   "metadata": {},
   "outputs": [
    {
     "data": {
      "text/html": [
       "<div>\n",
       "<style scoped>\n",
       "    .dataframe tbody tr th:only-of-type {\n",
       "        vertical-align: middle;\n",
       "    }\n",
       "\n",
       "    .dataframe tbody tr th {\n",
       "        vertical-align: top;\n",
       "    }\n",
       "\n",
       "    .dataframe thead th {\n",
       "        text-align: right;\n",
       "    }\n",
       "</style>\n",
       "<table border=\"1\" class=\"dataframe\">\n",
       "  <thead>\n",
       "    <tr style=\"text-align: right;\">\n",
       "      <th></th>\n",
       "      <th>Month</th>\n",
       "      <th>Passengers</th>\n",
       "    </tr>\n",
       "  </thead>\n",
       "  <tbody>\n",
       "    <tr>\n",
       "      <th>0</th>\n",
       "      <td>1995-01-01</td>\n",
       "      <td>112</td>\n",
       "    </tr>\n",
       "    <tr>\n",
       "      <th>1</th>\n",
       "      <td>1995-02-01</td>\n",
       "      <td>118</td>\n",
       "    </tr>\n",
       "    <tr>\n",
       "      <th>2</th>\n",
       "      <td>1995-03-01</td>\n",
       "      <td>132</td>\n",
       "    </tr>\n",
       "    <tr>\n",
       "      <th>3</th>\n",
       "      <td>1995-04-01</td>\n",
       "      <td>129</td>\n",
       "    </tr>\n",
       "    <tr>\n",
       "      <th>4</th>\n",
       "      <td>1995-05-01</td>\n",
       "      <td>121</td>\n",
       "    </tr>\n",
       "  </tbody>\n",
       "</table>\n",
       "</div>"
      ],
      "text/plain": [
       "       Month  Passengers\n",
       "0 1995-01-01         112\n",
       "1 1995-02-01         118\n",
       "2 1995-03-01         132\n",
       "3 1995-04-01         129\n",
       "4 1995-05-01         121"
      ]
     },
     "execution_count": 2,
     "metadata": {},
     "output_type": "execute_result"
    }
   ],
   "source": [
    "airline=pd.read_excel('C:/Users/Osama Khan/OneDrive/Documents/Data Science/Assignment/Assignment 18 forecasting/Airlines+Data.xlsx')\n",
    "airline.head()"
   ]
  },
  {
   "cell_type": "code",
   "execution_count": 3,
   "id": "639321c1",
   "metadata": {},
   "outputs": [
    {
     "data": {
      "text/plain": [
       "(96, 2)"
      ]
     },
     "execution_count": 3,
     "metadata": {},
     "output_type": "execute_result"
    }
   ],
   "source": [
    "airline.shape"
   ]
  },
  {
   "cell_type": "code",
   "execution_count": 4,
   "id": "b0bf72ea",
   "metadata": {},
   "outputs": [
    {
     "data": {
      "text/plain": [
       "Month         0\n",
       "Passengers    0\n",
       "dtype: int64"
      ]
     },
     "execution_count": 4,
     "metadata": {},
     "output_type": "execute_result"
    }
   ],
   "source": [
    "airline.isnull().sum()"
   ]
  },
  {
   "cell_type": "code",
   "execution_count": 5,
   "id": "ee402e98",
   "metadata": {},
   "outputs": [
    {
     "data": {
      "text/html": [
       "<div>\n",
       "<style scoped>\n",
       "    .dataframe tbody tr th:only-of-type {\n",
       "        vertical-align: middle;\n",
       "    }\n",
       "\n",
       "    .dataframe tbody tr th {\n",
       "        vertical-align: top;\n",
       "    }\n",
       "\n",
       "    .dataframe thead th {\n",
       "        text-align: right;\n",
       "    }\n",
       "</style>\n",
       "<table border=\"1\" class=\"dataframe\">\n",
       "  <thead>\n",
       "    <tr style=\"text-align: right;\">\n",
       "      <th></th>\n",
       "      <th>Passengers</th>\n",
       "    </tr>\n",
       "    <tr>\n",
       "      <th>Month</th>\n",
       "      <th></th>\n",
       "    </tr>\n",
       "  </thead>\n",
       "  <tbody>\n",
       "    <tr>\n",
       "      <th>1995-01-01</th>\n",
       "      <td>112</td>\n",
       "    </tr>\n",
       "    <tr>\n",
       "      <th>1995-02-01</th>\n",
       "      <td>118</td>\n",
       "    </tr>\n",
       "    <tr>\n",
       "      <th>1995-03-01</th>\n",
       "      <td>132</td>\n",
       "    </tr>\n",
       "    <tr>\n",
       "      <th>1995-04-01</th>\n",
       "      <td>129</td>\n",
       "    </tr>\n",
       "    <tr>\n",
       "      <th>1995-05-01</th>\n",
       "      <td>121</td>\n",
       "    </tr>\n",
       "  </tbody>\n",
       "</table>\n",
       "</div>"
      ],
      "text/plain": [
       "            Passengers\n",
       "Month                 \n",
       "1995-01-01         112\n",
       "1995-02-01         118\n",
       "1995-03-01         132\n",
       "1995-04-01         129\n",
       "1995-05-01         121"
      ]
     },
     "execution_count": 5,
     "metadata": {},
     "output_type": "execute_result"
    }
   ],
   "source": [
    "airline.set_index('Month',inplace=True)\n",
    "airline.head()"
   ]
  },
  {
   "cell_type": "code",
   "execution_count": 6,
   "id": "9d12df40",
   "metadata": {},
   "outputs": [
    {
     "data": {
      "text/html": [
       "<div>\n",
       "<style scoped>\n",
       "    .dataframe tbody tr th:only-of-type {\n",
       "        vertical-align: middle;\n",
       "    }\n",
       "\n",
       "    .dataframe tbody tr th {\n",
       "        vertical-align: top;\n",
       "    }\n",
       "\n",
       "    .dataframe thead th {\n",
       "        text-align: right;\n",
       "    }\n",
       "</style>\n",
       "<table border=\"1\" class=\"dataframe\">\n",
       "  <thead>\n",
       "    <tr style=\"text-align: right;\">\n",
       "      <th></th>\n",
       "      <th>Passengers</th>\n",
       "    </tr>\n",
       "    <tr>\n",
       "      <th>Month</th>\n",
       "      <th></th>\n",
       "    </tr>\n",
       "  </thead>\n",
       "  <tbody>\n",
       "    <tr>\n",
       "      <th>1995-01-01</th>\n",
       "      <td>112</td>\n",
       "    </tr>\n",
       "    <tr>\n",
       "      <th>1995-02-01</th>\n",
       "      <td>118</td>\n",
       "    </tr>\n",
       "    <tr>\n",
       "      <th>1995-03-01</th>\n",
       "      <td>132</td>\n",
       "    </tr>\n",
       "    <tr>\n",
       "      <th>1995-04-01</th>\n",
       "      <td>129</td>\n",
       "    </tr>\n",
       "    <tr>\n",
       "      <th>1995-05-01</th>\n",
       "      <td>121</td>\n",
       "    </tr>\n",
       "  </tbody>\n",
       "</table>\n",
       "</div>"
      ],
      "text/plain": [
       "            Passengers\n",
       "Month                 \n",
       "1995-01-01         112\n",
       "1995-02-01         118\n",
       "1995-03-01         132\n",
       "1995-04-01         129\n",
       "1995-05-01         121"
      ]
     },
     "execution_count": 6,
     "metadata": {},
     "output_type": "execute_result"
    }
   ],
   "source": [
    "airline1=airline.copy() # For Future use.\n",
    "airline2=airline.copy()\n",
    "airline1.head()"
   ]
  },
  {
   "cell_type": "code",
   "execution_count": 7,
   "id": "5d285703",
   "metadata": {},
   "outputs": [
    {
     "data": {
      "text/html": [
       "<div>\n",
       "<style scoped>\n",
       "    .dataframe tbody tr th:only-of-type {\n",
       "        vertical-align: middle;\n",
       "    }\n",
       "\n",
       "    .dataframe tbody tr th {\n",
       "        vertical-align: top;\n",
       "    }\n",
       "\n",
       "    .dataframe thead th {\n",
       "        text-align: right;\n",
       "    }\n",
       "</style>\n",
       "<table border=\"1\" class=\"dataframe\">\n",
       "  <thead>\n",
       "    <tr style=\"text-align: right;\">\n",
       "      <th></th>\n",
       "      <th>Passengers</th>\n",
       "    </tr>\n",
       "  </thead>\n",
       "  <tbody>\n",
       "    <tr>\n",
       "      <th>count</th>\n",
       "      <td>96.000000</td>\n",
       "    </tr>\n",
       "    <tr>\n",
       "      <th>mean</th>\n",
       "      <td>213.708333</td>\n",
       "    </tr>\n",
       "    <tr>\n",
       "      <th>std</th>\n",
       "      <td>71.918216</td>\n",
       "    </tr>\n",
       "    <tr>\n",
       "      <th>min</th>\n",
       "      <td>104.000000</td>\n",
       "    </tr>\n",
       "    <tr>\n",
       "      <th>25%</th>\n",
       "      <td>156.000000</td>\n",
       "    </tr>\n",
       "    <tr>\n",
       "      <th>50%</th>\n",
       "      <td>200.000000</td>\n",
       "    </tr>\n",
       "    <tr>\n",
       "      <th>75%</th>\n",
       "      <td>264.750000</td>\n",
       "    </tr>\n",
       "    <tr>\n",
       "      <th>max</th>\n",
       "      <td>413.000000</td>\n",
       "    </tr>\n",
       "  </tbody>\n",
       "</table>\n",
       "</div>"
      ],
      "text/plain": [
       "       Passengers\n",
       "count   96.000000\n",
       "mean   213.708333\n",
       "std     71.918216\n",
       "min    104.000000\n",
       "25%    156.000000\n",
       "50%    200.000000\n",
       "75%    264.750000\n",
       "max    413.000000"
      ]
     },
     "execution_count": 7,
     "metadata": {},
     "output_type": "execute_result"
    }
   ],
   "source": [
    "airline.describe()"
   ]
  },
  {
   "cell_type": "code",
   "execution_count": 8,
   "id": "4f32db9b",
   "metadata": {},
   "outputs": [
    {
     "data": {
      "text/plain": [
       "<AxesSubplot:>"
      ]
     },
     "execution_count": 8,
     "metadata": {},
     "output_type": "execute_result"
    },
    {
     "data": {
      "image/png": "[encoded data removed]",
      "text/plain": [
       "<Figure size 432x288 with 1 Axes>"
      ]
     },
     "metadata": {
      "needs_background": "light"
     },
     "output_type": "display_data"
    }
   ],
   "source": [
    "airline['Passengers'].hist(color='grey')"
   ]
  },
  {
   "cell_type": "code",
   "execution_count": 9,
   "id": "15c87157",
   "metadata": {},
   "outputs": [
    {
     "data": {
      "text/plain": [
       "<AxesSubplot:ylabel='Density'>"
      ]
     },
     "execution_count": 9,
     "metadata": {},
     "output_type": "execute_result"
    },
    {
     "data": {
      "image/png": "[encoded data removed]",
      "text/plain": [
       "<Figure size 432x288 with 1 Axes>"
      ]
     },
     "metadata": {
      "needs_background": "light"
     },
     "output_type": "display_data"
    }
   ],
   "source": [
    "ax=plt.axes()\n",
    "ax.set_facecolor('black')\n",
    "airline['Passengers'].plot(kind='kde',color='blue')"
   ]
  },
  {
   "cell_type": "code",
   "execution_count": 10,
   "id": "9e9bbdd3",
   "metadata": {},
   "outputs": [
    {
     "data": {
      "image/png": "[encoded data removed]",
      "text/plain": [
       "<Figure size 720x576 with 1 Axes>"
      ]
     },
     "metadata": {
      "needs_background": "light"
     },
     "output_type": "display_data"
    }
   ],
   "source": [
    "airline.Passengers.plot(figsize=(10,8),color='red',marker='x')\n",
    "plt.show()"
   ]
  },
  {
   "cell_type": "code",
   "execution_count": 11,
   "id": "f6ce7531",
   "metadata": {},
   "outputs": [
    {
     "data": {
      "text/plain": [
       "<AxesSubplot:xlabel='Passengers'>"
      ]
     },
     "execution_count": 11,
     "metadata": {},
     "output_type": "execute_result"
    },
    {
     "data": {
      "image/png": "[encoded data removed]",
      "text/plain": [
       "<Figure size 432x288 with 1 Axes>"
      ]
     },
     "metadata": {
      "needs_background": "light"
     },
     "output_type": "display_data"
    }
   ],
   "source": [
    "sns.boxplot('Passengers',data=airline)"
   ]
  },
  {
   "cell_type": "code",
   "execution_count": 12,
   "id": "4f249bbe",
   "metadata": {},
   "outputs": [
    {
     "data": {
      "text/plain": [
       "<AxesSubplot:xlabel='y(t)', ylabel='y(t + 1)'>"
      ]
     },
     "execution_count": 12,
     "metadata": {},
     "output_type": "execute_result"
    },
    {
     "data": {
      "image/png": "[encoded data removed]",
      "text/plain": [
       "<Figure size 432x288 with 1 Axes>"
      ]
     },
     "metadata": {
      "needs_background": "light"
     },
     "output_type": "display_data"
    }
   ],
   "source": [
    "from pandas.plotting import lag_plot\n",
    "lag_plot(airline['Passengers'])"
   ]
  },
  {
   "cell_type": "code",
   "execution_count": 13,
   "id": "b9217734",
   "metadata": {},
   "outputs": [
    {
     "data": {
      "image/png": "[encoded data removed]",
      "text/plain": [
       "<Figure size 432x288 with 1 Axes>"
      ]
     },
     "metadata": {
      "needs_background": "light"
     },
     "output_type": "display_data"
    },
    {
     "data": {
      "image/png": "[encoded data removed]",
      "text/plain": [
       "<Figure size 432x288 with 1 Axes>"
      ]
     },
     "metadata": {
      "needs_background": "light"
     },
     "output_type": "display_data"
    }
   ],
   "source": [
    "import statsmodels.graphics.tsaplots as tsa_plots\n",
    "tsa_plots.plot_acf(airline.Passengers,lags=12)\n",
    "tsa_plots.plot_pacf(airline.Passengers,lags=12)\n",
    "plt.show()"
   ]
  },
  {
   "cell_type": "markdown",
   "id": "f9f885e4",
   "metadata": {},
   "source": [
    "##  Data Driven Forecasting methods"
   ]
  },
  {
   "cell_type": "code",
   "execution_count": 14,
   "id": "22e085dc",
   "metadata": {},
   "outputs": [],
   "source": [
    "from statsmodels.tsa.holtwinters import SimpleExpSmoothing\n",
    "from statsmodels.tsa.holtwinters import Holt\n",
    "from statsmodels.tsa.holtwinters import ExponentialSmoothing"
   ]
  },
  {
   "cell_type": "code",
   "execution_count": 15,
   "id": "3ee2e838",
   "metadata": {},
   "outputs": [],
   "source": [
    "# Spliting data\n",
    "train=airline.head(84)\n",
    "test=airline.tail(12)"
   ]
  },
  {
   "cell_type": "code",
   "execution_count": 16,
   "id": "fe8732f0",
   "metadata": {},
   "outputs": [
    {
     "data": {
      "text/plain": [
       "<matplotlib.legend.Legend at 0x205649734c0>"
      ]
     },
     "execution_count": 16,
     "metadata": {},
     "output_type": "execute_result"
    },
    {
     "data": {
      "image/png": "[encoded data removed]",
      "text/plain": [
       "<Figure size 864x288 with 1 Axes>"
      ]
     },
     "metadata": {
      "needs_background": "light"
     },
     "output_type": "display_data"
    }
   ],
   "source": [
    "plt.figure(figsize=(12,4))\n",
    "airline.Passengers.plot(label='org')\n",
    "for i in range(2,8,2):\n",
    "    airline['Passengers'].rolling(i).mean().plot(label=str(i))\n",
    "plt.legend(loc='best')"
   ]
  },
  {
   "cell_type": "code",
   "execution_count": 17,
   "id": "424be14b",
   "metadata": {},
   "outputs": [
    {
     "data": {
      "image/png": "[encoded data removed]",
      "text/plain": [
       "<Figure size 432x288 with 4 Axes>"
      ]
     },
     "metadata": {
      "needs_background": "light"
     },
     "output_type": "display_data"
    }
   ],
   "source": [
    "# Time series decomposition plot\n",
    "from statsmodels.tsa.seasonal import seasonal_decompose\n",
    "decompose_ts_add=seasonal_decompose(airline.Passengers,period=12)\n",
    "decompose_ts_add.plot()\n",
    "plt.show()"
   ]
  },
  {
   "cell_type": "code",
   "execution_count": 18,
   "id": "31564d29",
   "metadata": {},
   "outputs": [],
   "source": [
    "# Evaluation Metric rmse\n",
    "def RMSE(org,pred):\n",
    "    rmse=np.sqrt(np.mean((np.array(org)-np.array(pred))**2))\n",
    "    return rmse"
   ]
  },
  {
   "cell_type": "code",
   "execution_count": 19,
   "id": "8080d36b",
   "metadata": {},
   "outputs": [
    {
     "name": "stderr",
     "output_type": "stream",
     "text": [
      "C:\\Users\\Osama Khan\\anaconda3\\lib\\site-packages\\statsmodels\\tsa\\base\\tsa_model.py:524: ValueWarning: No frequency information was provided, so inferred frequency MS will be used.\n",
      "  warnings.warn('No frequency information was'\n"
     ]
    },
    {
     "data": {
      "text/plain": [
       "68.0067403134932"
      ]
     },
     "execution_count": 19,
     "metadata": {},
     "output_type": "execute_result"
    }
   ],
   "source": [
    "# Simple Exponential Method\n",
    "ses_model=SimpleExpSmoothing(train['Passengers']).fit()\n",
    "pred_ses=ses_model.predict(start=test.index[0],end=test.index[-1])\n",
    "rmse_ses_model=RMSE(test.Passengers,pred_ses)\n",
    "rmse_ses_model"
   ]
  },
  {
   "cell_type": "code",
   "execution_count": 20,
   "id": "1dcf16e8",
   "metadata": {},
   "outputs": [
    {
     "name": "stderr",
     "output_type": "stream",
     "text": [
      "C:\\Users\\Osama Khan\\anaconda3\\lib\\site-packages\\statsmodels\\tsa\\base\\tsa_model.py:524: ValueWarning: No frequency information was provided, so inferred frequency MS will be used.\n",
      "  warnings.warn('No frequency information was'\n"
     ]
    },
    {
     "data": {
      "text/plain": [
       "58.53117812596795"
      ]
     },
     "execution_count": 20,
     "metadata": {},
     "output_type": "execute_result"
    }
   ],
   "source": [
    "# Holt Method\n",
    "hw_model=Holt(train['Passengers']).fit()\n",
    "pred_hw_model=hw_model.predict(start=test.index[0],end=test.index[-1])\n",
    "rmse_hw_model=RMSE(test.Passengers,pred_hw_model)\n",
    "rmse_hw_model"
   ]
  },
  {
   "cell_type": "code",
   "execution_count": 21,
   "id": "508ff750",
   "metadata": {},
   "outputs": [
    {
     "name": "stderr",
     "output_type": "stream",
     "text": [
      "C:\\Users\\Osama Khan\\anaconda3\\lib\\site-packages\\statsmodels\\tsa\\base\\tsa_model.py:524: ValueWarning: No frequency information was provided, so inferred frequency MS will be used.\n",
      "  warnings.warn('No frequency information was'\n"
     ]
    },
    {
     "data": {
      "text/plain": [
       "62.99109700445373"
      ]
     },
     "execution_count": 21,
     "metadata": {},
     "output_type": "execute_result"
    }
   ],
   "source": [
    "#Holt winter exponential smoothing  with additive seasonality and additive trend\n",
    "hw_model_add_add=ExponentialSmoothing(train['Passengers'],seasonal='add',trend='add',seasonal_periods=4).fit()\n",
    "pred_hw_model_add=hw_model_add_add.predict(start=test.index[0],end=test.index[-1])\n",
    "rmse_model_add=RMSE(test.Passengers,pred_hw_model_add)\n",
    "rmse_model_add"
   ]
  },
  {
   "cell_type": "code",
   "execution_count": 22,
   "id": "81616d33",
   "metadata": {},
   "outputs": [
    {
     "name": "stderr",
     "output_type": "stream",
     "text": [
      "C:\\Users\\Osama Khan\\anaconda3\\lib\\site-packages\\statsmodels\\tsa\\base\\tsa_model.py:524: ValueWarning: No frequency information was provided, so inferred frequency MS will be used.\n",
      "  warnings.warn('No frequency information was'\n"
     ]
    },
    {
     "data": {
      "text/plain": [
       "64.69311722038927"
      ]
     },
     "execution_count": 22,
     "metadata": {},
     "output_type": "execute_result"
    }
   ],
   "source": [
    "# Holt winter exponential smoothing with multiplicative seasonality and additive trend\n",
    "hw_model_mul_add=ExponentialSmoothing(train['Passengers'],seasonal='mul',trend='add',seasonal_periods=4).fit()\n",
    "pred_hw_mul=hw_model_mul_add.predict(start=test.index[0],end=test.index[-1])\n",
    "rmse_hw_mul=RMSE(test.Passengers,pred_hw_mul)\n",
    "rmse_hw_mul"
   ]
  },
  {
   "cell_type": "markdown",
   "id": "014f3f7e",
   "metadata": {},
   "source": [
    "## Model based forecasting method"
   ]
  },
  {
   "cell_type": "code",
   "execution_count": 23,
   "id": "9e936dd3",
   "metadata": {},
   "outputs": [
    {
     "data": {
      "text/html": [
       "<div>\n",
       "<style scoped>\n",
       "    .dataframe tbody tr th:only-of-type {\n",
       "        vertical-align: middle;\n",
       "    }\n",
       "\n",
       "    .dataframe tbody tr th {\n",
       "        vertical-align: top;\n",
       "    }\n",
       "\n",
       "    .dataframe thead th {\n",
       "        text-align: right;\n",
       "    }\n",
       "</style>\n",
       "<table border=\"1\" class=\"dataframe\">\n",
       "  <thead>\n",
       "    <tr style=\"text-align: right;\">\n",
       "      <th></th>\n",
       "      <th>Passengers</th>\n",
       "      <th>t</th>\n",
       "      <th>t_squared</th>\n",
       "      <th>log_passenger</th>\n",
       "    </tr>\n",
       "    <tr>\n",
       "      <th>Month</th>\n",
       "      <th></th>\n",
       "      <th></th>\n",
       "      <th></th>\n",
       "      <th></th>\n",
       "    </tr>\n",
       "  </thead>\n",
       "  <tbody>\n",
       "    <tr>\n",
       "      <th>1995-01-01</th>\n",
       "      <td>112</td>\n",
       "      <td>1</td>\n",
       "      <td>1</td>\n",
       "      <td>4.718499</td>\n",
       "    </tr>\n",
       "    <tr>\n",
       "      <th>1995-02-01</th>\n",
       "      <td>118</td>\n",
       "      <td>2</td>\n",
       "      <td>4</td>\n",
       "      <td>4.770685</td>\n",
       "    </tr>\n",
       "    <tr>\n",
       "      <th>1995-03-01</th>\n",
       "      <td>132</td>\n",
       "      <td>3</td>\n",
       "      <td>9</td>\n",
       "      <td>4.882802</td>\n",
       "    </tr>\n",
       "    <tr>\n",
       "      <th>1995-04-01</th>\n",
       "      <td>129</td>\n",
       "      <td>4</td>\n",
       "      <td>16</td>\n",
       "      <td>4.859812</td>\n",
       "    </tr>\n",
       "    <tr>\n",
       "      <th>1995-05-01</th>\n",
       "      <td>121</td>\n",
       "      <td>5</td>\n",
       "      <td>25</td>\n",
       "      <td>4.795791</td>\n",
       "    </tr>\n",
       "  </tbody>\n",
       "</table>\n",
       "</div>"
      ],
      "text/plain": [
       "            Passengers  t  t_squared  log_passenger\n",
       "Month                                              \n",
       "1995-01-01         112  1          1       4.718499\n",
       "1995-02-01         118  2          4       4.770685\n",
       "1995-03-01         132  3          9       4.882802\n",
       "1995-04-01         129  4         16       4.859812\n",
       "1995-05-01         121  5         25       4.795791"
      ]
     },
     "execution_count": 23,
     "metadata": {},
     "output_type": "execute_result"
    }
   ],
   "source": [
    "airline1['t']=np.arange(1,97)\n",
    "airline1['t_squared']=airline1['t']*airline1['t']\n",
    "airline1['log_passenger']=np.log(airline1['Passengers'])\n",
    "airline1.head()"
   ]
  },
  {
   "cell_type": "code",
   "execution_count": 24,
   "id": "7d98b569",
   "metadata": {},
   "outputs": [],
   "source": [
    "# splitting data\n",
    "train=airline1.head(84)\n",
    "test=airline1.tail(12)"
   ]
  },
  {
   "cell_type": "code",
   "execution_count": 25,
   "id": "1e154662",
   "metadata": {},
   "outputs": [
    {
     "data": {
      "text/plain": [
       "53.19923653480271"
      ]
     },
     "execution_count": 25,
     "metadata": {},
     "output_type": "execute_result"
    }
   ],
   "source": [
    "# Linear model\n",
    "import statsmodels.formula.api as smf\n",
    "\n",
    "linear_model=smf.ols('Passengers~t',data=train).fit()\n",
    "pred_linear=pd.Series(linear_model.predict(pd.DataFrame(test['t'])))\n",
    "rmse_linear=RMSE(test['Passengers'],pred_linear)\n",
    "rmse_linear"
   ]
  },
  {
   "cell_type": "code",
   "execution_count": 26,
   "id": "e1887414",
   "metadata": {},
   "outputs": [
    {
     "data": {
      "text/plain": [
       "325.7150613551535"
      ]
     },
     "execution_count": 26,
     "metadata": {},
     "output_type": "execute_result"
    }
   ],
   "source": [
    "# Exponential model\n",
    "exp_model=smf.ols('log_passenger~t',data=train).fit()\n",
    "pred_exp_model=pd.Series(exp_model.predict(pd.DataFrame(test['t'])))\n",
    "rmse_exp_model=RMSE(test['Passengers'],pred_exp_model)\n",
    "rmse_exp_model"
   ]
  },
  {
   "cell_type": "code",
   "execution_count": 27,
   "id": "f1ec55b3",
   "metadata": {},
   "outputs": [
    {
     "data": {
      "text/plain": [
       "48.051888979331565"
      ]
     },
     "execution_count": 27,
     "metadata": {},
     "output_type": "execute_result"
    }
   ],
   "source": [
    "# Quadratic model\n",
    "quad_model=smf.ols('Passengers~t+t_squared',data=train).fit()\n",
    "pred_quad_model=pd.Series(quad_model.predict(pd.DataFrame(test[['t','t_squared']])))\n",
    "rmse_quad_model=RMSE(test['Passengers'],pred_quad_model)\n",
    "rmse_quad_model"
   ]
  },
  {
   "cell_type": "markdown",
   "id": "108c209e",
   "metadata": {},
   "source": [
    "## ARIMA Model"
   ]
  },
  {
   "cell_type": "code",
   "execution_count": 28,
   "id": "73f1f98d",
   "metadata": {},
   "outputs": [
    {
     "data": {
      "text/html": [
       "<div>\n",
       "<style scoped>\n",
       "    .dataframe tbody tr th:only-of-type {\n",
       "        vertical-align: middle;\n",
       "    }\n",
       "\n",
       "    .dataframe tbody tr th {\n",
       "        vertical-align: top;\n",
       "    }\n",
       "\n",
       "    .dataframe thead th {\n",
       "        text-align: right;\n",
       "    }\n",
       "</style>\n",
       "<table border=\"1\" class=\"dataframe\">\n",
       "  <thead>\n",
       "    <tr style=\"text-align: right;\">\n",
       "      <th></th>\n",
       "      <th>Passengers</th>\n",
       "    </tr>\n",
       "    <tr>\n",
       "      <th>Month</th>\n",
       "      <th></th>\n",
       "    </tr>\n",
       "  </thead>\n",
       "  <tbody>\n",
       "    <tr>\n",
       "      <th>1995-01-01</th>\n",
       "      <td>112</td>\n",
       "    </tr>\n",
       "    <tr>\n",
       "      <th>1995-02-01</th>\n",
       "      <td>118</td>\n",
       "    </tr>\n",
       "    <tr>\n",
       "      <th>1995-03-01</th>\n",
       "      <td>132</td>\n",
       "    </tr>\n",
       "    <tr>\n",
       "      <th>1995-04-01</th>\n",
       "      <td>129</td>\n",
       "    </tr>\n",
       "    <tr>\n",
       "      <th>1995-05-01</th>\n",
       "      <td>121</td>\n",
       "    </tr>\n",
       "    <tr>\n",
       "      <th>...</th>\n",
       "      <td>...</td>\n",
       "    </tr>\n",
       "    <tr>\n",
       "      <th>2002-08-01</th>\n",
       "      <td>405</td>\n",
       "    </tr>\n",
       "    <tr>\n",
       "      <th>2002-09-01</th>\n",
       "      <td>355</td>\n",
       "    </tr>\n",
       "    <tr>\n",
       "      <th>2002-10-01</th>\n",
       "      <td>306</td>\n",
       "    </tr>\n",
       "    <tr>\n",
       "      <th>2002-11-01</th>\n",
       "      <td>271</td>\n",
       "    </tr>\n",
       "    <tr>\n",
       "      <th>2002-12-01</th>\n",
       "      <td>306</td>\n",
       "    </tr>\n",
       "  </tbody>\n",
       "</table>\n",
       "<p>96 rows × 1 columns</p>\n",
       "</div>"
      ],
      "text/plain": [
       "            Passengers\n",
       "Month                 \n",
       "1995-01-01         112\n",
       "1995-02-01         118\n",
       "1995-03-01         132\n",
       "1995-04-01         129\n",
       "1995-05-01         121\n",
       "...                ...\n",
       "2002-08-01         405\n",
       "2002-09-01         355\n",
       "2002-10-01         306\n",
       "2002-11-01         271\n",
       "2002-12-01         306\n",
       "\n",
       "[96 rows x 1 columns]"
      ]
     },
     "execution_count": 28,
     "metadata": {},
     "output_type": "execute_result"
    }
   ],
   "source": [
    "airline2"
   ]
  },
  {
   "cell_type": "code",
   "execution_count": 29,
   "id": "49f115af",
   "metadata": {},
   "outputs": [
    {
     "name": "stdout",
     "output_type": "stream",
     "text": [
      "Dataset 84 validation 12\n"
     ]
    }
   ],
   "source": [
    "# separate out a validation datasets\n",
    "split_point=len(airline2)-12\n",
    "dataset,validation=airline2[0:split_point],airline2[split_point:]\n",
    "print('Dataset %d validation %d' %(len(dataset),len(validation)))\n",
    "dataset.to_csv('dataset.csv',header=False)\n",
    "validation.to_csv('validation.csv',header=False)"
   ]
  },
  {
   "cell_type": "code",
   "execution_count": 30,
   "id": "49991d28",
   "metadata": {},
   "outputs": [],
   "source": [
    "# Persistence / Base model\n",
    "# Evaluate persistence model.\n",
    "from pandas import read_csv\n",
    "from sklearn.metrics import mean_squared_error\n",
    "from math import sqrt\n",
    "train=read_csv('dataset.csv',header=None,index_col=0,parse_dates=True,squeeze=True)\n",
    "X=train.values\n",
    "X=X.astype('float32')\n",
    "train_size= int(len(X)*0.715)\n",
    "train,test=X[0:train_size],X[train_size:]"
   ]
  },
  {
   "cell_type": "code",
   "execution_count": 31,
   "id": "e844487e",
   "metadata": {},
   "outputs": [
    {
     "name": "stdout",
     "output_type": "stream",
     "text": [
      "(60,)\n",
      "(24,)\n"
     ]
    }
   ],
   "source": [
    "print(train.shape)\n",
    "print(test.shape)"
   ]
  },
  {
   "cell_type": "code",
   "execution_count": 32,
   "id": "879ea0d1",
   "metadata": {},
   "outputs": [
    {
     "name": "stdout",
     "output_type": "stream",
     "text": [
      ">predicted=201.000 ,Expected=278.000\n",
      "RMSE:74.406\n"
     ]
    }
   ],
   "source": [
    "# walk forward validation\n",
    "history=[x for x in train]\n",
    "predictions= list()\n",
    "for i in range(len(test)):\n",
    "    yhat=history[-1]\n",
    "    predictions.append(yhat)\n",
    "# observation\n",
    "obs=test[i]\n",
    "history.append(obs)\n",
    "print('>predicted=%.3f ,Expected=%.3f' % (yhat,obs))\n",
    "# Report performance\n",
    "rmse=sqrt(mean_squared_error(test,predictions))\n",
    "print('RMSE:%.3f' % rmse)\n"
   ]
  },
  {
   "cell_type": "code",
   "execution_count": 33,
   "id": "ca6d85a1",
   "metadata": {},
   "outputs": [],
   "source": [
    "rmse_persistence_model=74.406"
   ]
  },
  {
   "cell_type": "markdown",
   "id": "5d3c60a3",
   "metadata": {},
   "source": [
    "## ARIMA Hyperparameter"
   ]
  },
  {
   "cell_type": "code",
   "execution_count": 34,
   "id": "b3510d80",
   "metadata": {},
   "outputs": [],
   "source": [
    "series=pd.read_excel('C:/Users/Osama Khan/OneDrive/Documents/Data Science/Assignment/Assignment 18 forecasting/Airlines+Data.xlsx',header=0,index_col=0,parse_dates=True)"
   ]
  },
  {
   "cell_type": "code",
   "execution_count": 35,
   "id": "6489ea79",
   "metadata": {},
   "outputs": [
    {
     "data": {
      "text/html": [
       "<div>\n",
       "<style scoped>\n",
       "    .dataframe tbody tr th:only-of-type {\n",
       "        vertical-align: middle;\n",
       "    }\n",
       "\n",
       "    .dataframe tbody tr th {\n",
       "        vertical-align: top;\n",
       "    }\n",
       "\n",
       "    .dataframe thead th {\n",
       "        text-align: right;\n",
       "    }\n",
       "</style>\n",
       "<table border=\"1\" class=\"dataframe\">\n",
       "  <thead>\n",
       "    <tr style=\"text-align: right;\">\n",
       "      <th></th>\n",
       "      <th>Passengers</th>\n",
       "    </tr>\n",
       "    <tr>\n",
       "      <th>Month</th>\n",
       "      <th></th>\n",
       "    </tr>\n",
       "  </thead>\n",
       "  <tbody>\n",
       "    <tr>\n",
       "      <th>1995-01-01</th>\n",
       "      <td>112</td>\n",
       "    </tr>\n",
       "    <tr>\n",
       "      <th>1995-02-01</th>\n",
       "      <td>118</td>\n",
       "    </tr>\n",
       "    <tr>\n",
       "      <th>1995-03-01</th>\n",
       "      <td>132</td>\n",
       "    </tr>\n",
       "    <tr>\n",
       "      <th>1995-04-01</th>\n",
       "      <td>129</td>\n",
       "    </tr>\n",
       "    <tr>\n",
       "      <th>1995-05-01</th>\n",
       "      <td>121</td>\n",
       "    </tr>\n",
       "  </tbody>\n",
       "</table>\n",
       "</div>"
      ],
      "text/plain": [
       "            Passengers\n",
       "Month                 \n",
       "1995-01-01         112\n",
       "1995-02-01         118\n",
       "1995-03-01         132\n",
       "1995-04-01         129\n",
       "1995-05-01         121"
      ]
     },
     "execution_count": 35,
     "metadata": {},
     "output_type": "execute_result"
    }
   ],
   "source": [
    "series.head()"
   ]
  },
  {
   "cell_type": "code",
   "execution_count": 36,
   "id": "4ef733e5",
   "metadata": {},
   "outputs": [
    {
     "name": "stdout",
     "output_type": "stream",
     "text": [
      "Dataset 84,validation 12\n"
     ]
    }
   ],
   "source": [
    "# Separate out a validation dataset\n",
    "split_point=len(series)-12\n",
    "dataset,validation=series[0:split_point],series[split_point:]\n",
    "print('Dataset %d,validation %d'%(len(dataset),len(validation)))\n",
    "dataset.to_csv('dataset.csv',header=False)\n",
    "validation.to_csv('validation.csv',header=False)"
   ]
  },
  {
   "cell_type": "code",
   "execution_count": 51,
   "id": "a9763b7e",
   "metadata": {},
   "outputs": [],
   "source": [
    "# grid search ARIMA  parameters  for time series\n",
    "import warnings\n",
    "from pandas import read_csv\n",
    "from statsmodels.tsa.arima_model import ARIMA\n",
    "from sklearn.metrics import mean_squared_error\n",
    "from math import sqrt\n",
    "\n",
    "# evaluate an Arima model fro given order(p,d,q)and return rmse\n",
    "def evaluate_arima_model(X, arima_order):\n",
    "# prepare training dataset\n",
    "    X = X.astype('float32')\n",
    "    train_size = int(len(X) * 0.50)\n",
    "    train, test = X[0:train_size], X[train_size:]\n",
    "    history = [x for x in train]\n",
    "# make predictions\n",
    "    predictions = list()\n",
    "    for t in range(len(test)):\n",
    "        model = ARIMA(history, order=arima_order)\n",
    "# model_fit = model.fit(disp=0)\n",
    "        model_fit = model.fit(disp=0)\n",
    "        yhat = model_fit.forecast()[0]\n",
    "        predictions.append(yhat)\n",
    "        history.append(test[t])\n",
    "# calculate out of sample error\n",
    "    rmse = sqrt(mean_squared_error(test, predictions))\n",
    "    return rmse"
   ]
  },
  {
   "cell_type": "code",
   "execution_count": 52,
   "id": "0d9e13a0",
   "metadata": {},
   "outputs": [],
   "source": [
    "# evaluate combination of p,d,q for ARIMA model\n",
    "def evaluate_models(dataset,p_values,d_values,q_values):\n",
    "    dataset=dataset.astype('float32')\n",
    "    best_score,best_cfg=float('inf'),None\n",
    "    for p in p_values:\n",
    "        for d in d_values:\n",
    "            for q in q_values:\n",
    "                order=(p,d,q)\n",
    "                try:\n",
    "                    rmse=evaluate_arima_model(train,order)\n",
    "                    if rmse<best_score:\n",
    "                        best_score,best_cfg=rmse,order\n",
    "                    print('ARIMA%s RMSE=%.3f'%(order,rmse))\n",
    "                except:\n",
    "                    continue\n",
    "    print('Best ARIMA%s RMSE=%.3f'%(best_cfg,best_score))"
   ]
  },
  {
   "cell_type": "code",
   "execution_count": 53,
   "id": "b2eb306f",
   "metadata": {},
   "outputs": [],
   "source": [
    "# load dataset\n",
    "train=pd.read_csv('dataset.csv',header=None,index_col=0,parse_dates=True,squeeze=True)"
   ]
  },
  {
   "cell_type": "code",
   "execution_count": 55,
   "id": "40add8e1",
   "metadata": {},
   "outputs": [
    {
     "name": "stdout",
     "output_type": "stream",
     "text": [
      "ARIMA(0, 0, 0) RMSE=78.356\n",
      "ARIMA(0, 0, 1) RMSE=44.790\n",
      "ARIMA(0, 1, 0) RMSE=26.206\n",
      "ARIMA(0, 1, 1) RMSE=25.582\n",
      "ARIMA(0, 1, 2) RMSE=28.099\n",
      "ARIMA(0, 1, 3) RMSE=23.953\n",
      "ARIMA(0, 1, 4) RMSE=22.830\n",
      "ARIMA(0, 2, 0) RMSE=32.545\n",
      "ARIMA(0, 2, 1) RMSE=26.939\n",
      "ARIMA(0, 2, 2) RMSE=26.175\n",
      "ARIMA(0, 2, 3) RMSE=28.230\n",
      "ARIMA(0, 2, 4) RMSE=25.211\n",
      "ARIMA(1, 0, 0) RMSE=26.445\n",
      "ARIMA(1, 0, 1) RMSE=25.611\n",
      "ARIMA(1, 1, 0) RMSE=25.940\n",
      "ARIMA(1, 2, 0) RMSE=31.784\n",
      "ARIMA(2, 0, 0) RMSE=25.991\n",
      "ARIMA(2, 1, 0) RMSE=25.659\n",
      "ARIMA(2, 2, 0) RMSE=30.766\n",
      "ARIMA(3, 0, 0) RMSE=25.820\n",
      "ARIMA(3, 0, 1) RMSE=25.294\n",
      "ARIMA(3, 1, 0) RMSE=25.765\n",
      "ARIMA(3, 2, 0) RMSE=30.978\n",
      "ARIMA(4, 0, 0) RMSE=26.056\n",
      "ARIMA(4, 1, 0) RMSE=25.190\n",
      "ARIMA(4, 2, 0) RMSE=29.503\n",
      "ARIMA(4, 2, 1) RMSE=25.848\n",
      "Best ARIMA(0, 1, 4) RMSE=22.830\n"
     ]
    }
   ],
   "source": [
    "# evaluate parameters\n",
    "p_values=range(0,5)\n",
    "d_values=range(0,5)\n",
    "q_values=range(0,5)\n",
    "warnings.filterwarnings('ignore')\n",
    "evaluate_models(train.values,p_values,d_values,q_values)"
   ]
  },
  {
   "cell_type": "code",
   "execution_count": 67,
   "id": "03331405",
   "metadata": {},
   "outputs": [],
   "source": [
    "rmse_ARIMA_model=22.830"
   ]
  },
  {
   "cell_type": "markdown",
   "id": "db1635e2",
   "metadata": {},
   "source": [
    "## Build model based on optimized values"
   ]
  },
  {
   "cell_type": "code",
   "execution_count": 57,
   "id": "26ed2ebd",
   "metadata": {},
   "outputs": [],
   "source": [
    "# load data\n",
    "train=pd.read_csv('dataset.csv',header=0,index_col=0,parse_dates=True)\n",
    "#prepare data\n",
    "X=train.values\n",
    "X=X.astype('float32')"
   ]
  },
  {
   "cell_type": "code",
   "execution_count": 59,
   "id": "d0182911",
   "metadata": {},
   "outputs": [
    {
     "data": {
      "image/png": "[encoded data removed]",
      "text/plain": [
       "<Figure size 432x288 with 1 Axes>"
      ]
     },
     "execution_count": 59,
     "metadata": {},
     "output_type": "execute_result"
    },
    {
     "data": {
      "image/png": "[encoded data removed]",
      "text/plain": [
       "<Figure size 432x288 with 1 Axes>"
      ]
     },
     "metadata": {
      "needs_background": "light"
     },
     "output_type": "display_data"
    }
   ],
   "source": [
    "# fit model\n",
    "model=ARIMA(X,order=(3,1,0))\n",
    "model_fit=model.fit()\n",
    "forecast=model_fit.forecast(steps=12)[0]\n",
    "model_fit.plot_predict(1,96)"
   ]
  },
  {
   "cell_type": "code",
   "execution_count": 60,
   "id": "219d2449",
   "metadata": {},
   "outputs": [
    {
     "data": {
      "text/plain": [
       "51.13509979849091"
      ]
     },
     "execution_count": 60,
     "metadata": {},
     "output_type": "execute_result"
    }
   ],
   "source": [
    "# Error on test data\n",
    "val=pd.read_csv('validation.csv',header=None)\n",
    "rmse=sqrt(mean_squared_error(val[1],forecast))\n",
    "rmse"
   ]
  },
  {
   "cell_type": "markdown",
   "id": "a946f332",
   "metadata": {},
   "source": [
    "## combine train and test and build final model"
   ]
  },
  {
   "cell_type": "code",
   "execution_count": 61,
   "id": "652d303a",
   "metadata": {},
   "outputs": [],
   "source": [
    "\n",
    "data=pd.read_excel('C:/Users/Osama Khan/OneDrive/Documents/Data Science/Assignment/Assignment 18 forecasting/Airlines+Data.xlsx',header=0,index_col=0,parse_dates=True)"
   ]
  },
  {
   "cell_type": "code",
   "execution_count": 62,
   "id": "95237a2c",
   "metadata": {},
   "outputs": [],
   "source": [
    "X=train.values\n",
    "X=X.astype('float32')"
   ]
  },
  {
   "cell_type": "code",
   "execution_count": 63,
   "id": "49c782b4",
   "metadata": {},
   "outputs": [],
   "source": [
    "model=ARIMA(X,order=(0,1,4))\n",
    "model_fit=model.fit()\n"
   ]
  },
  {
   "cell_type": "code",
   "execution_count": 64,
   "id": "d8a92380",
   "metadata": {},
   "outputs": [
    {
     "data": {
      "image/png": "[encoded data removed]",
      "text/plain": [
       "<Figure size 432x288 with 1 Axes>"
      ]
     },
     "execution_count": 64,
     "metadata": {},
     "output_type": "execute_result"
    },
    {
     "data": {
      "image/png": "[encoded data removed]",
      "text/plain": [
       "<Figure size 432x288 with 1 Axes>"
      ]
     },
     "metadata": {
      "needs_background": "light"
     },
     "output_type": "display_data"
    }
   ],
   "source": [
    "forecast=model_fit.forecast(steps=12)[0]\n",
    "model_fit.plot_predict(1,97)"
   ]
  },
  {
   "cell_type": "code",
   "execution_count": 65,
   "id": "1fda68b1",
   "metadata": {},
   "outputs": [
    {
     "data": {
      "text/plain": [
       "array([297.29505083, 300.66282676, 305.18876246, 296.168753  ,\n",
       "       298.33912965, 300.50950631, 302.67988296, 304.85025961,\n",
       "       307.02063627, 309.19101292, 311.36138957, 313.53176623])"
      ]
     },
     "execution_count": 65,
     "metadata": {},
     "output_type": "execute_result"
    }
   ],
   "source": [
    "forecast"
   ]
  },
  {
   "cell_type": "code",
   "execution_count": 70,
   "id": "4a81b5e0",
   "metadata": {},
   "outputs": [],
   "source": [
    "list = [['Simple Exponential Method',rmse_ses_model], ['Holt method',rmse_hw_model],\n",
    "          ['HW exp smoothing add',rmse_model_add],['HW exp smoothing mult',rmse_hw_mul],\n",
    "          ['Linear Mode',rmse_linear],['Exp model',rmse_exp_model],['Quad model',rmse_quad_model],\n",
    "          ['Persistence/ Base model', rmse_persistence_model], ['ARIMA Model', rmse_ARIMA_model]]"
   ]
  },
  {
   "cell_type": "code",
   "execution_count": 73,
   "id": "f40cd89c",
   "metadata": {},
   "outputs": [
    {
     "data": {
      "text/html": [
       "<div>\n",
       "<style scoped>\n",
       "    .dataframe tbody tr th:only-of-type {\n",
       "        vertical-align: middle;\n",
       "    }\n",
       "\n",
       "    .dataframe tbody tr th {\n",
       "        vertical-align: top;\n",
       "    }\n",
       "\n",
       "    .dataframe thead th {\n",
       "        text-align: right;\n",
       "    }\n",
       "</style>\n",
       "<table border=\"1\" class=\"dataframe\">\n",
       "  <thead>\n",
       "    <tr style=\"text-align: right;\">\n",
       "      <th></th>\n",
       "      <th>Model</th>\n",
       "      <th>RMSE_Values</th>\n",
       "    </tr>\n",
       "  </thead>\n",
       "  <tbody>\n",
       "    <tr>\n",
       "      <th>8</th>\n",
       "      <td>ARIMA Model</td>\n",
       "      <td>22.830000</td>\n",
       "    </tr>\n",
       "    <tr>\n",
       "      <th>5</th>\n",
       "      <td>Exp model</td>\n",
       "      <td>325.715061</td>\n",
       "    </tr>\n",
       "    <tr>\n",
       "      <th>2</th>\n",
       "      <td>HW exp smoothing add</td>\n",
       "      <td>62.991097</td>\n",
       "    </tr>\n",
       "    <tr>\n",
       "      <th>3</th>\n",
       "      <td>HW exp smoothing mult</td>\n",
       "      <td>64.693117</td>\n",
       "    </tr>\n",
       "    <tr>\n",
       "      <th>1</th>\n",
       "      <td>Holt method</td>\n",
       "      <td>58.531178</td>\n",
       "    </tr>\n",
       "    <tr>\n",
       "      <th>4</th>\n",
       "      <td>Linear Mode</td>\n",
       "      <td>53.199237</td>\n",
       "    </tr>\n",
       "    <tr>\n",
       "      <th>7</th>\n",
       "      <td>Persistence/ Base model</td>\n",
       "      <td>74.406000</td>\n",
       "    </tr>\n",
       "    <tr>\n",
       "      <th>6</th>\n",
       "      <td>Quad model</td>\n",
       "      <td>48.051889</td>\n",
       "    </tr>\n",
       "    <tr>\n",
       "      <th>0</th>\n",
       "      <td>Simple Exponential Method</td>\n",
       "      <td>68.006740</td>\n",
       "    </tr>\n",
       "  </tbody>\n",
       "</table>\n",
       "</div>"
      ],
      "text/plain": [
       "                       Model  RMSE_Values\n",
       "8                ARIMA Model    22.830000\n",
       "5                  Exp model   325.715061\n",
       "2       HW exp smoothing add    62.991097\n",
       "3      HW exp smoothing mult    64.693117\n",
       "1                Holt method    58.531178\n",
       "4                Linear Mode    53.199237\n",
       "7    Persistence/ Base model    74.406000\n",
       "6                 Quad model    48.051889\n",
       "0  Simple Exponential Method    68.006740"
      ]
     },
     "execution_count": 73,
     "metadata": {},
     "output_type": "execute_result"
    }
   ],
   "source": [
    "table_rmse=pd.DataFrame(list,columns=['Model','RMSE_Values'])\n",
    "table_rmse.sort_values(['Model','RMSE_Values'])"
   ]
  },
  {
   "cell_type": "code",
   "execution_count": null,
   "id": "81a55bc4",
   "metadata": {},
   "outputs": [],
   "source": []
  }
 ],
 "metadata": {
  "kernelspec": {
   "display_name": "Python 3",
   "language": "python",
   "name": "python3"
  },
  "language_info": {
   "codemirror_mode": {
    "name": "ipython",
    "version": 3
   },
   "file_extension": ".py",
   "mimetype": "text/x-python",
   "name": "python",
   "nbconvert_exporter": "python",
   "pygments_lexer": "ipython3",
   "version": "3.8.8"
  },
  "toc": {
   "base_numbering": 1,
   "nav_menu": {},
   "number_sections": true,
   "sideBar": true,
   "skip_h1_title": false,
   "title_cell": "Table of Contents",
   "title_sidebar": "Contents",
   "toc_cell": false,
   "toc_position": {},
   "toc_section_display": true,
   "toc_window_display": false
  }
 },
 "nbformat": 4,
 "nbformat_minor": 5
}
